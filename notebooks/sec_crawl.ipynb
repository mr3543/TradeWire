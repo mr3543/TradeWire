{
 "cells": [
  {
   "cell_type": "code",
   "execution_count": 8,
   "metadata": {},
   "outputs": [],
   "source": [
    "from secedgar.filings import Filing,FilingType,CIK\n",
    "import bs4 as bs\n",
    "import unicodedata\n",
    "import re\n",
    "from string import printable\n",
    "import json\n",
    "import os\n",
    "from functools import partial \n",
    "from multiprocessing.pool import Pool\n",
    "from tqdm import tqdm_notebook\n",
    "import datetime\n",
    "import pickle"
   ]
  },
  {
   "cell_type": "code",
   "execution_count": 9,
   "metadata": {},
   "outputs": [],
   "source": [
    "def build_ticker_list(ticker_file):\n",
    "    tl = []\n",
    "    with open(ticker_file,'r') as f:\n",
    "        lines = f.readlines()\n",
    "    \n",
    "    for line in lines:\n",
    "        tl.append(line.split('\\t')[0])\n",
    "    return tl\n"
   ]
  },
  {
   "cell_type": "code",
   "execution_count": 16,
   "metadata": {},
   "outputs": [],
   "source": [
    "def download_10k(ticker):\n",
    "    t_cik = CIK([ticker])\n",
    "    start_date = datetime.datetime(2019,1,1)\n",
    "    t_filing = Filing(cik=t_cik,filing_type = FilingType.FILING_10K,\n",
    "                      start_date=start_date,count=1)\n",
    "    t_dir = '../crawl/' + 'orig/' + ticker \n",
    "    return t_filing.save_simple(t_dir)"
   ]
  },
  {
   "cell_type": "code",
   "execution_count": 14,
   "metadata": {},
   "outputs": [],
   "source": [
    "def process_match(match,ticker,write_invalid=True):\n",
    "    match_str = match[0]\n",
    "    if len(match_str) >= 2500:\n",
    "        # valid match, write out to valid matches\n",
    "        fn = '../crawl/valid/' + ticker + '/matchedText.txt'\n",
    "        os.makedirs(os.path.dirname(fn))\n",
    "        with open(fn,'w') as f:\n",
    "            f.write(match_str)\n",
    "        if 'font' in match_str.lower():\n",
    "            with open('../dirty_writes.txt','a') as f:\n",
    "                f.write(ticker + '\\n')\n",
    "        return True\n",
    "    elif write_invalid:\n",
    "        print('invalid write for %s' %ticker)\n",
    "        # invalid match, write out to invalid matches\n",
    "        fn = '../crawl/invalid/' + ticker + '/matchedText.txt'\n",
    "        os.makedirs(os.path.dirname(fn))\n",
    "        with open(fn,'w') as f:\n",
    "            f.write(match_str)\n",
    "        with open('../invalid.txt','a') as f:\n",
    "            f.write(ticker + '\\n')\n",
    "        return True\n",
    "    \n",
    "    return False"
   ]
  },
  {
   "cell_type": "code",
   "execution_count": 15,
   "metadata": {},
   "outputs": [],
   "source": [
    "def extract(file_name,ticker):\n",
    "    \n",
    "    with open(file_name,'r',encoding='utf-8') as f:\n",
    "        sauce = f.read()\n",
    "    sauce = sauce.strip()\n",
    "    sauce = sauce.replace('\\n', ' ')\\\n",
    "                 .replace('\\t', ' ')\\\n",
    "                 .replace('\\r', ' ')\\\n",
    "                 .replace('&nbsp', ' ')\\\n",
    "                 .replace('&#160;', ' ')\\\n",
    "                 .replace(';',' ')\n",
    "    while '  ' in sauce:\n",
    "        sauce = sauce.replace('  ',' ')\n",
    "    \n",
    "    soup   = bs.BeautifulSoup(sauce,'lxml').text\n",
    "    soup   = ''.join([ch if ch in printable else ' ' for ch in soup])\n",
    "    regex15_4  = r\"Item 15.+?Item 4\"\n",
    "    regex1_4   = r\"Item 1(?=[^A])(?=[\\D]).+?Item 4\"   \n",
    "    \n",
    "    outer_match = re.search(regex15_4,soup,flags=re.IGNORECASE)\n",
    "    if outer_match:\n",
    "        outer_str   = outer_match[0]\n",
    "        inner_match = re.search(regex1_4,outer_str,flags=re.IGNORECASE)\n",
    "        \n",
    "        if inner_match and \\\n",
    "            process_match(inner_match,ticker,write_invalid=False):\n",
    "                return\n",
    "            \n",
    "        \n",
    "        # at this point either inner match is empty or too small\n",
    "        process_match(outer_match,ticker)\n",
    "    else:\n",
    "        inner_match = re.search(regex1_4,soup,flags=re.IGNORECASE)\n",
    "        if inner_match:\n",
    "            process_match(inner_match,ticker)\n",
    "        else:\n",
    "            fn = '../crawl/no_match/' + ticker + '/soup.txt'\n",
    "            print('no match for %s' %ticker)\n",
    "            os.makedirs(os.path.dirname(fn))\n",
    "            with open(fn,'w') as f:\n",
    "                f.write(soup)\n",
    "    \n",
    "    return "
   ]
  },
  {
   "cell_type": "code",
   "execution_count": 13,
   "metadata": {},
   "outputs": [],
   "source": [
    "def dl_extract(ticker,found_list):\n",
    "    try:\n",
    "        fn = download_10k(ticker)\n",
    "    except Exception as e:\n",
    "        print('ticker %s not found')\n",
    "        with open('not_found.txt','a') as f:\n",
    "            f.write(ticker + '\\n')\n",
    "        return \n",
    "    print('found %s', %ticker)\n",
    "    found_list.append(ticker)\n",
    "    extract(fn,ticker)"
   ]
  },
  {
   "cell_type": "code",
   "execution_count": null,
   "metadata": {},
   "outputs": [],
   "source": [
    "## code execution starts here \n",
    "tl = build_ticker_list('/home/mmr/Downloads/ticker.txt')"
   ]
  },
  {
   "cell_type": "code",
   "execution_count": 2,
   "metadata": {},
   "outputs": [],
   "source": [
    "with open('../not_found.txt','r') as f:\n",
    "    text = f.read()\n",
    "tl = text.split('\\n')"
   ]
  },
  {
   "cell_type": "code",
   "execution_count": 6,
   "metadata": {},
   "outputs": [],
   "source": [
    "tl = pickle.load(open('next_round.pkl','rb'))"
   ]
  },
  {
   "cell_type": "code",
   "execution_count": 17,
   "metadata": {},
   "outputs": [
    {
     "name": "stderr",
     "output_type": "stream",
     "text": [
      "/home/mmr/anaconda3/envs/tw/lib/python3.7/site-packages/ipykernel_launcher.py:4: TqdmDeprecationWarning: This function will be removed in tqdm==5.0.0\n",
      "Please use `tqdm.notebook.tqdm` instead of `tqdm.tqdm_notebook`\n",
      "  after removing the cwd from sys.path.\n"
     ]
    },
    {
     "data": {
      "application/vnd.jupyter.widget-view+json": {
       "model_id": "8a28a8806ccf4be7a781dd2f55b1fc0f",
       "version_major": 2,
       "version_minor": 0
      },
      "text/plain": [
       "HBox(children=(FloatProgress(value=1.0, bar_style='info', max=1.0), HTML(value='')))"
      ]
     },
     "metadata": {},
     "output_type": "display_data"
    },
    {
     "name": "stdout",
     "output_type": "stream",
     "text": [
      "\n"
     ]
    }
   ],
   "source": [
    "# for multi-process run here \n",
    "pool = Pool(2)\n",
    "found_list = []\n",
    "for _ in tqdm_notebook(pool.imap_unordered(dl_extract,tl)):\n",
    "    pass\n"
   ]
  },
  {
   "cell_type": "code",
   "execution_count": 18,
   "metadata": {},
   "outputs": [
    {
     "data": {
      "text/plain": [
       "[]"
      ]
     },
     "execution_count": 18,
     "metadata": {},
     "output_type": "execute_result"
    }
   ],
   "source": [
    "found_list"
   ]
  },
  {
   "cell_type": "code",
   "execution_count": null,
   "metadata": {},
   "outputs": [],
   "source": [
    "tickers = ['amgn','ccl','celg','expe','fdx','hpq','mat','swks','tss']"
   ]
  },
  {
   "cell_type": "code",
   "execution_count": null,
   "metadata": {},
   "outputs": [],
   "source": [
    "import os"
   ]
  },
  {
   "cell_type": "code",
   "execution_count": null,
   "metadata": {},
   "outputs": [],
   "source": [
    "for t in tickers[6:]:\n",
    "    fp = '../crawl/orig/' + t\n",
    "    fstump = os.listdir(fp)[0]\n",
    "    fn = fp + '/' + fstump\n",
    "    extract(fn,t)"
   ]
  },
  {
   "cell_type": "code",
   "execution_count": null,
   "metadata": {},
   "outputs": [],
   "source": [
    "tickers[6:]"
   ]
  },
  {
   "cell_type": "code",
   "execution_count": null,
   "metadata": {},
   "outputs": [],
   "source": [
    "## for single process run here \n",
    "\n",
    "for tckr in tl:\n",
    "    dl_extract(tckr)"
   ]
  }
 ],
 "metadata": {
  "kernelspec": {
   "display_name": "Python 3",
   "language": "python",
   "name": "python3"
  },
  "language_info": {
   "codemirror_mode": {
    "name": "ipython",
    "version": 3
   },
   "file_extension": ".py",
   "mimetype": "text/x-python",
   "name": "python",
   "nbconvert_exporter": "python",
   "pygments_lexer": "ipython3",
   "version": "3.7.0"
  }
 },
 "nbformat": 4,
 "nbformat_minor": 4
}
